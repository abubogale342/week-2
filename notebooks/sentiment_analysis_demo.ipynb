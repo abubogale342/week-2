{
 "cells": [
  {
   "cell_type": "markdown",
   "metadata": {},
   "source": [
    "# News Sentiment Analysis\n",
    "This notebook demonstrates how to analyze the correlation between news sentiment and stock price movements."
   ]
  },
  {
   "cell_type": "code",
   "execution_count": null,
   "metadata": {},
   "outputs": [],
   "source": [
    "# Install required packages\n",
    "!pip install pandas numpy matplotlib seaborn textblob yfinance"
   ]
  },
  {
   "cell_type": "code",
   "execution_count": null,
   "metadata": {},
   "outputs": [],
   "source": [
    "# Import required libraries\n",
    "import sys\n",
    "import os\n",
    "import pandas as pd\n",
    "import matplotlib.pyplot as plt\n",
    "%matplotlib inline\n",
    "\n",
    "# Add scripts directory to path\n",
    "script_dir = os.path.abspath(os.path.join('..', 'scripts'))\n",
    "if script_dir not in sys.path:\n",
    "    sys.path.append(script_dir)\n",
    "    print(f\\\"Added {script_dir} to Python path\\\")\n",
    "else:\n",
    "    print(\\\"Script directory already in path\\\")\n",
    "\n",
    "from sentiment_analysis import SentimentAnalyzer"
   ]
  },
  {
   "cell_type": "code",
   "execution_count": null,
   "metadata": {},
   "outputs": [],
   "source": [
    "# Initialize the analyzer\n",
    "analyzer = SentimentAnalyzer()"
   ]
  },
  {
   "cell_type": "code",
   "execution_count": null,
   "metadata": {},
   "outputs": [],
   "source": [
    "# Example: Analyze correlation for a stock\n",
    "results = analyzer.analyze_correlation(\n",
    "    news_file='../data/raw_analyst_ratings.csv',\n",
    "    stock_symbol='AAPL'  # Change to your stock symbol\n",
    ")\n",
    "\n",
    "# Display correlation\n",
    "print(f\\\"Correlation between news sentiment and stock returns: {results['correlation']:.2f}\\")"
   ]
  },
  {
   "cell_type": "code",
   "execution_count": null,
   "metadata": {},
   "outputs": [],
   "source": [
    "# Display the first few rows of the analyzed data\n",
    "results['data'].head()"
   ]
  },
  {
   "cell_type": "code",
   "execution_count": null,
   "metadata": {},
   "outputs": [],
   "source": [
    "# Additional analysis: Compare multiple stocks\n",
    "def compare_stocks(news_file, symbols):\n",
    "    correlations = {}\n",
    "    for symbol in symbols:\n",
    "        try:\n",
    "            analyzer = SentimentAnalyzer()\n",
    "            result = analyzer.analyze_correlation(news_file, symbol)\n",
    "            correlations[symbol] = result['correlation']\n",
    "            print(f\\\"{symbol}: {result['correlation']:.2f}\\")\n",
    "        except Exception as e:\n",
    "            print(f\\\"Error analyzing {symbol}: {str(e)}\\")\n",
    "    return correlations\n",
    "\n",
    "# Example: Compare tech stocks\n",
    "tech_stocks = ['AAPL', 'MSFT', 'GOOGL', 'AMZN', 'META']\n",
    "correlations = compare_stocks('../data/raw_analyst_ratings.csv', tech_stocks)\n",
    "\n",
    "# Plot correlations\n",
    "plt.figure(figsize=(10, 5))\n",
    "pd.Series(correlations).sort_values().plot(kind='barh', color='skyblue')\n",
    "plt.title('Correlation between News Sentiment and Stock Returns')\n",
    "plt.xlabel('Correlation Coefficient')\n",
    "plt.axvline(0, color='black', linestyle='--', alpha=0.5)\n",
    "plt.tight_layout()\n",
    "plt.savefig('../output/sentiment_correlation_comparison.png')\n",
    "plt.show()"
   ]
  }
 ],
 "metadata": {
  "kernelspec": {
   "display_name": "Python 3",
   "language": "python",
   "name": "python3"
  },
  "language_info": {
   "codemirror_mode": {
    "name": "ipython",
    "version": 3
   },
   "file_extension": ".py",
   "mimetype": "text/x-python",
   "name": "python",
   "nbconvert_exporter": "python",
   "pygments_lexer": "ipython3",
   "version": "3.8.0"
  }
 },
 "nbformat": 4,
 "nbformat_minor": 4
}
