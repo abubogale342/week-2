{
 "cells": [
  {
   "cell_type": "code",
   "execution_count": 3,
   "metadata": {
    "colab": {
     "base_uri": "https://localhost:8080/"
    },
    "executionInfo": {
     "elapsed": 10029,
     "status": "ok",
     "timestamp": 1748756922729,
     "user": {
      "displayName": "Rehmet Yeshanew",
      "userId": "13657567983879656862"
     },
     "user_tz": -180
    },
    "id": "UqQ0jCvCugj3",
    "outputId": "b5a4ee35-81a4-4dbc-f393-a87bf54c59ac"
   },
   "outputs": [
    {
     "name": "stdout",
     "output_type": "stream",
     "text": [
      "YF.download() has changed argument auto_adjust default to True\n"
     ]
    },
    {
     "name": "stderr",
     "output_type": "stream",
     "text": [
      "[*********************100%***********************]  1 of 1 completed\n"
     ]
    }
   ],
   "source": [
    "import yfinance as yf\n",
    "import pandas as pd\n",
    "import numpy as np\n",
    "from textblob import TextBlob\n",
    "\n",
    "# Define the ticker and the time period\n",
    "ticker = 'AAPL'\n",
    "start_date = '2020-01-01'\n",
    "end_date = '2023-01-01'\n",
    "\n",
    "# Fetch the stock data\n",
    "aapl_data = yf.download(ticker, start=start_date, end=end_date)\n"
   ]
  },
  {
   "cell_type": "code",
   "execution_count": 4,
   "metadata": {
    "colab": {
     "base_uri": "https://localhost:8080/",
     "height": 269
    },
    "executionInfo": {
     "elapsed": 125,
     "status": "ok",
     "timestamp": 1748757011914,
     "user": {
      "displayName": "Rehmet Yeshanew",
      "userId": "13657567983879656862"
     },
     "user_tz": -180
    },
    "id": "FHAuq5e2re9q",
    "outputId": "d108f214-63fe-4d67-bfa7-27344aadb665"
   },
   "outputs": [
    {
     "data": {
      "text/html": [
       "<div>\n",
       "<style scoped>\n",
       "    .dataframe tbody tr th:only-of-type {\n",
       "        vertical-align: middle;\n",
       "    }\n",
       "\n",
       "    .dataframe tbody tr th {\n",
       "        vertical-align: top;\n",
       "    }\n",
       "\n",
       "    .dataframe thead tr th {\n",
       "        text-align: left;\n",
       "    }\n",
       "\n",
       "    .dataframe thead tr:last-of-type th {\n",
       "        text-align: right;\n",
       "    }\n",
       "</style>\n",
       "<table border=\"1\" class=\"dataframe\">\n",
       "  <thead>\n",
       "    <tr>\n",
       "      <th>Price</th>\n",
       "      <th>Close</th>\n",
       "      <th>High</th>\n",
       "      <th>Low</th>\n",
       "      <th>Open</th>\n",
       "      <th>Volume</th>\n",
       "    </tr>\n",
       "    <tr>\n",
       "      <th>Ticker</th>\n",
       "      <th>AAPL</th>\n",
       "      <th>AAPL</th>\n",
       "      <th>AAPL</th>\n",
       "      <th>AAPL</th>\n",
       "      <th>AAPL</th>\n",
       "    </tr>\n",
       "    <tr>\n",
       "      <th>Date</th>\n",
       "      <th></th>\n",
       "      <th></th>\n",
       "      <th></th>\n",
       "      <th></th>\n",
       "      <th></th>\n",
       "    </tr>\n",
       "  </thead>\n",
       "  <tbody>\n",
       "    <tr>\n",
       "      <th>2020-01-02</th>\n",
       "      <td>72.620842</td>\n",
       "      <td>72.681289</td>\n",
       "      <td>71.373218</td>\n",
       "      <td>71.627092</td>\n",
       "      <td>135480400</td>\n",
       "    </tr>\n",
       "    <tr>\n",
       "      <th>2020-01-03</th>\n",
       "      <td>71.914818</td>\n",
       "      <td>72.676447</td>\n",
       "      <td>71.689957</td>\n",
       "      <td>71.847118</td>\n",
       "      <td>146322800</td>\n",
       "    </tr>\n",
       "    <tr>\n",
       "      <th>2020-01-06</th>\n",
       "      <td>72.487854</td>\n",
       "      <td>72.526541</td>\n",
       "      <td>70.783256</td>\n",
       "      <td>71.034717</td>\n",
       "      <td>118387200</td>\n",
       "    </tr>\n",
       "    <tr>\n",
       "      <th>2020-01-07</th>\n",
       "      <td>72.146950</td>\n",
       "      <td>72.753831</td>\n",
       "      <td>71.926922</td>\n",
       "      <td>72.497537</td>\n",
       "      <td>108872000</td>\n",
       "    </tr>\n",
       "    <tr>\n",
       "      <th>2020-01-08</th>\n",
       "      <td>73.307526</td>\n",
       "      <td>73.609760</td>\n",
       "      <td>71.849548</td>\n",
       "      <td>71.849548</td>\n",
       "      <td>132079200</td>\n",
       "    </tr>\n",
       "  </tbody>\n",
       "</table>\n",
       "</div>"
      ],
      "text/plain": [
       "Price           Close       High        Low       Open     Volume\n",
       "Ticker           AAPL       AAPL       AAPL       AAPL       AAPL\n",
       "Date                                                             \n",
       "2020-01-02  72.620842  72.681289  71.373218  71.627092  135480400\n",
       "2020-01-03  71.914818  72.676447  71.689957  71.847118  146322800\n",
       "2020-01-06  72.487854  72.526541  70.783256  71.034717  118387200\n",
       "2020-01-07  72.146950  72.753831  71.926922  72.497537  108872000\n",
       "2020-01-08  73.307526  73.609760  71.849548  71.849548  132079200"
      ]
     },
     "execution_count": 4,
     "metadata": {},
     "output_type": "execute_result"
    }
   ],
   "source": [
    "aapl_data.head()"
   ]
  },
  {
   "cell_type": "code",
   "execution_count": 7,
   "metadata": {
    "colab": {
     "base_uri": "https://localhost:8080/"
    },
    "executionInfo": {
     "elapsed": 13,
     "status": "ok",
     "timestamp": 1748757050787,
     "user": {
      "displayName": "Rehmet Yeshanew",
      "userId": "13657567983879656862"
     },
     "user_tz": -180
    },
    "id": "OR9422ovCrPL",
    "outputId": "7ff68d47-7702-4d82-b6bc-ffcc5a0787ab"
   },
   "outputs": [
    {
     "data": {
      "text/plain": [
       "MultiIndex([( 'Close', 'AAPL'),\n",
       "            (  'High', 'AAPL'),\n",
       "            (   'Low', 'AAPL'),\n",
       "            (  'Open', 'AAPL'),\n",
       "            ('Volume', 'AAPL')],\n",
       "           names=['Price', 'Ticker'])"
      ]
     },
     "execution_count": 7,
     "metadata": {},
     "output_type": "execute_result"
    }
   ],
   "source": [
    "aapl_data.columns"
   ]
  },
  {
   "cell_type": "code",
   "execution_count": 5,
   "metadata": {
    "colab": {
     "base_uri": "https://localhost:8080/"
    },
    "executionInfo": {
     "elapsed": 26,
     "status": "ok",
     "timestamp": 1748757065977,
     "user": {
      "displayName": "Rehmet Yeshanew",
      "userId": "13657567983879656862"
     },
     "user_tz": -180
    },
    "id": "p6DH-0a4B6QT",
    "outputId": "4e5c9551-9c62-4f42-e7c5-6b426d2c5b88"
   },
   "outputs": [
    {
     "data": {
      "text/plain": [
       "Index(['Close', 'High', 'Low', 'Open', 'Volume'], dtype='object')"
      ]
     },
     "execution_count": 5,
     "metadata": {},
     "output_type": "execute_result"
    }
   ],
   "source": [
    "aapl_data.columns = ['Close', 'High', 'Low', 'Open', 'Volume']\n",
    "\n",
    "aapl_data.columns"
   ]
  },
  {
   "cell_type": "code",
   "execution_count": 6,
   "metadata": {
    "executionInfo": {
     "elapsed": 13,
     "status": "ok",
     "timestamp": 1748757078204,
     "user": {
      "displayName": "Rehmet Yeshanew",
      "userId": "13657567983879656862"
     },
     "user_tz": -180
    },
    "id": "Wz27SnukMe9l"
   },
   "outputs": [],
   "source": [
    "# Create a DataFrame with dates from the AAPL data\n",
    "dates = aapl_data.index\n",
    "text_data = pd.DataFrame(dates, columns=['Date'])\n"
   ]
  },
  {
   "cell_type": "code",
   "execution_count": 7,
   "metadata": {
    "colab": {
     "base_uri": "https://localhost:8080/",
     "height": 206
    },
    "executionInfo": {
     "elapsed": 88,
     "status": "ok",
     "timestamp": 1748757102768,
     "user": {
      "displayName": "Rehmet Yeshanew",
      "userId": "13657567983879656862"
     },
     "user_tz": -180
    },
    "id": "KcBLyJqNMiH-",
    "outputId": "36092927-bce7-4561-9734-f1ee3623d7fa"
   },
   "outputs": [
    {
     "data": {
      "text/html": [
       "<div>\n",
       "<style scoped>\n",
       "    .dataframe tbody tr th:only-of-type {\n",
       "        vertical-align: middle;\n",
       "    }\n",
       "\n",
       "    .dataframe tbody tr th {\n",
       "        vertical-align: top;\n",
       "    }\n",
       "\n",
       "    .dataframe thead th {\n",
       "        text-align: right;\n",
       "    }\n",
       "</style>\n",
       "<table border=\"1\" class=\"dataframe\">\n",
       "  <thead>\n",
       "    <tr style=\"text-align: right;\">\n",
       "      <th></th>\n",
       "      <th>Date</th>\n",
       "      <th>Headline</th>\n",
       "    </tr>\n",
       "  </thead>\n",
       "  <tbody>\n",
       "    <tr>\n",
       "      <th>0</th>\n",
       "      <td>2020-01-02</td>\n",
       "      <td>AAPL to unveil new product next month</td>\n",
       "    </tr>\n",
       "    <tr>\n",
       "      <th>1</th>\n",
       "      <td>2020-01-03</td>\n",
       "      <td>AAPL to unveil new product next month</td>\n",
       "    </tr>\n",
       "    <tr>\n",
       "      <th>2</th>\n",
       "      <td>2020-01-06</td>\n",
       "      <td>AAPL faces regulatory scrutiny</td>\n",
       "    </tr>\n",
       "    <tr>\n",
       "      <th>3</th>\n",
       "      <td>2020-01-07</td>\n",
       "      <td>AAPL rumored to acquire a tech startup</td>\n",
       "    </tr>\n",
       "    <tr>\n",
       "      <th>4</th>\n",
       "      <td>2020-01-08</td>\n",
       "      <td>AAPL reports earnings that exceed forecasts</td>\n",
       "    </tr>\n",
       "  </tbody>\n",
       "</table>\n",
       "</div>"
      ],
      "text/plain": [
       "        Date                                     Headline\n",
       "0 2020-01-02        AAPL to unveil new product next month\n",
       "1 2020-01-03        AAPL to unveil new product next month\n",
       "2 2020-01-06               AAPL faces regulatory scrutiny\n",
       "3 2020-01-07       AAPL rumored to acquire a tech startup\n",
       "4 2020-01-08  AAPL reports earnings that exceed forecasts"
      ]
     },
     "execution_count": 7,
     "metadata": {},
     "output_type": "execute_result"
    }
   ],
   "source": [
    "# Generate random headlines\n",
    "headline_samples = [\n",
    "    \"AAPL hits record high\",\n",
    "    \"Concerns over AAPL's future growth\",\n",
    "    \"AAPL to unveil new product next month\",\n",
    "    \"AAPL reports earnings that exceed forecasts\",\n",
    "    \"Market downturn affects AAPL\",\n",
    "    \"AAPL invests in renewable energy\",\n",
    "    \"New AAPL CEO announced\",\n",
    "    \"AAPL faces regulatory scrutiny\",\n",
    "    \"AAPL rumored to acquire a tech startup\",\n",
    "    \"AAPL's market share grows\"\n",
    "]\n",
    "\n",
    "# Assign a random headline to each date\n",
    "text_data['Headline'] = np.random.choice(headline_samples, size=len(text_data))\n",
    "\n",
    "# Display the first few rows of the updated DataFrame\n",
    "text_data.head()"
   ]
  },
  {
   "cell_type": "code",
   "execution_count": 10,
   "metadata": {
    "colab": {
     "base_uri": "https://localhost:8080/",
     "height": 990
    },
    "executionInfo": {
     "elapsed": 128,
     "status": "ok",
     "timestamp": 1748757534849,
     "user": {
      "displayName": "Rehmet Yeshanew",
      "userId": "13657567983879656862"
     },
     "user_tz": -180
    },
    "id": "qUSGBIAdwdYS",
    "outputId": "d5ee5a02-1d3e-4fb9-9c8e-67d994d1db4b"
   },
   "outputs": [
    {
     "data": {
      "text/html": [
       "<div>\n",
       "<style scoped>\n",
       "    .dataframe tbody tr th:only-of-type {\n",
       "        vertical-align: middle;\n",
       "    }\n",
       "\n",
       "    .dataframe tbody tr th {\n",
       "        vertical-align: top;\n",
       "    }\n",
       "\n",
       "    .dataframe thead th {\n",
       "        text-align: right;\n",
       "    }\n",
       "</style>\n",
       "<table border=\"1\" class=\"dataframe\">\n",
       "  <thead>\n",
       "    <tr style=\"text-align: right;\">\n",
       "      <th></th>\n",
       "      <th>Date</th>\n",
       "      <th>Headline</th>\n",
       "    </tr>\n",
       "  </thead>\n",
       "  <tbody>\n",
       "    <tr>\n",
       "      <th>0</th>\n",
       "      <td>2020-01-02</td>\n",
       "      <td>AAPL to unveil new product next month</td>\n",
       "    </tr>\n",
       "    <tr>\n",
       "      <th>1</th>\n",
       "      <td>2020-01-03</td>\n",
       "      <td>AAPL to unveil new product next month</td>\n",
       "    </tr>\n",
       "    <tr>\n",
       "      <th>2</th>\n",
       "      <td>2020-01-06</td>\n",
       "      <td>AAPL faces regulatory scrutiny</td>\n",
       "    </tr>\n",
       "    <tr>\n",
       "      <th>3</th>\n",
       "      <td>2020-01-07</td>\n",
       "      <td>AAPL rumored to acquire a tech startup</td>\n",
       "    </tr>\n",
       "    <tr>\n",
       "      <th>4</th>\n",
       "      <td>2020-01-08</td>\n",
       "      <td>AAPL reports earnings that exceed forecasts</td>\n",
       "    </tr>\n",
       "    <tr>\n",
       "      <th>5</th>\n",
       "      <td>2020-01-09</td>\n",
       "      <td>AAPL invests in renewable energy</td>\n",
       "    </tr>\n",
       "    <tr>\n",
       "      <th>6</th>\n",
       "      <td>2020-01-10</td>\n",
       "      <td>AAPL reports earnings that exceed forecasts</td>\n",
       "    </tr>\n",
       "    <tr>\n",
       "      <th>7</th>\n",
       "      <td>2020-01-13</td>\n",
       "      <td>Concerns over AAPL's future growth</td>\n",
       "    </tr>\n",
       "    <tr>\n",
       "      <th>8</th>\n",
       "      <td>2020-01-14</td>\n",
       "      <td>AAPL's market share grows</td>\n",
       "    </tr>\n",
       "    <tr>\n",
       "      <th>9</th>\n",
       "      <td>2020-01-15</td>\n",
       "      <td>AAPL to unveil new product next month</td>\n",
       "    </tr>\n",
       "    <tr>\n",
       "      <th>10</th>\n",
       "      <td>2020-01-16</td>\n",
       "      <td>New AAPL CEO announced</td>\n",
       "    </tr>\n",
       "    <tr>\n",
       "      <th>11</th>\n",
       "      <td>2020-01-17</td>\n",
       "      <td>Concerns over AAPL's future growth</td>\n",
       "    </tr>\n",
       "    <tr>\n",
       "      <th>12</th>\n",
       "      <td>2020-01-21</td>\n",
       "      <td>AAPL reports earnings that exceed forecasts</td>\n",
       "    </tr>\n",
       "    <tr>\n",
       "      <th>13</th>\n",
       "      <td>2020-01-22</td>\n",
       "      <td>AAPL faces regulatory scrutiny</td>\n",
       "    </tr>\n",
       "    <tr>\n",
       "      <th>14</th>\n",
       "      <td>2020-01-23</td>\n",
       "      <td>AAPL's market share grows</td>\n",
       "    </tr>\n",
       "    <tr>\n",
       "      <th>15</th>\n",
       "      <td>2020-01-24</td>\n",
       "      <td>AAPL rumored to acquire a tech startup</td>\n",
       "    </tr>\n",
       "    <tr>\n",
       "      <th>16</th>\n",
       "      <td>2020-01-27</td>\n",
       "      <td>AAPL to unveil new product next month</td>\n",
       "    </tr>\n",
       "    <tr>\n",
       "      <th>17</th>\n",
       "      <td>2020-01-28</td>\n",
       "      <td>AAPL hits record high</td>\n",
       "    </tr>\n",
       "    <tr>\n",
       "      <th>18</th>\n",
       "      <td>2020-01-29</td>\n",
       "      <td>AAPL hits record high</td>\n",
       "    </tr>\n",
       "    <tr>\n",
       "      <th>19</th>\n",
       "      <td>2020-01-30</td>\n",
       "      <td>AAPL rumored to acquire a tech startup</td>\n",
       "    </tr>\n",
       "    <tr>\n",
       "      <th>20</th>\n",
       "      <td>2020-01-31</td>\n",
       "      <td>AAPL faces regulatory scrutiny</td>\n",
       "    </tr>\n",
       "    <tr>\n",
       "      <th>21</th>\n",
       "      <td>2020-02-03</td>\n",
       "      <td>AAPL's market share grows</td>\n",
       "    </tr>\n",
       "    <tr>\n",
       "      <th>22</th>\n",
       "      <td>2020-02-04</td>\n",
       "      <td>Market downturn affects AAPL</td>\n",
       "    </tr>\n",
       "    <tr>\n",
       "      <th>23</th>\n",
       "      <td>2020-02-05</td>\n",
       "      <td>AAPL rumored to acquire a tech startup</td>\n",
       "    </tr>\n",
       "    <tr>\n",
       "      <th>24</th>\n",
       "      <td>2020-02-06</td>\n",
       "      <td>AAPL to unveil new product next month</td>\n",
       "    </tr>\n",
       "    <tr>\n",
       "      <th>25</th>\n",
       "      <td>2020-02-07</td>\n",
       "      <td>Concerns over AAPL's future growth</td>\n",
       "    </tr>\n",
       "    <tr>\n",
       "      <th>26</th>\n",
       "      <td>2020-02-10</td>\n",
       "      <td>Market downturn affects AAPL</td>\n",
       "    </tr>\n",
       "    <tr>\n",
       "      <th>27</th>\n",
       "      <td>2020-02-11</td>\n",
       "      <td>New AAPL CEO announced</td>\n",
       "    </tr>\n",
       "    <tr>\n",
       "      <th>28</th>\n",
       "      <td>2020-02-12</td>\n",
       "      <td>AAPL hits record high</td>\n",
       "    </tr>\n",
       "    <tr>\n",
       "      <th>29</th>\n",
       "      <td>2020-02-13</td>\n",
       "      <td>AAPL faces regulatory scrutiny</td>\n",
       "    </tr>\n",
       "  </tbody>\n",
       "</table>\n",
       "</div>"
      ],
      "text/plain": [
       "         Date                                     Headline\n",
       "0  2020-01-02        AAPL to unveil new product next month\n",
       "1  2020-01-03        AAPL to unveil new product next month\n",
       "2  2020-01-06               AAPL faces regulatory scrutiny\n",
       "3  2020-01-07       AAPL rumored to acquire a tech startup\n",
       "4  2020-01-08  AAPL reports earnings that exceed forecasts\n",
       "5  2020-01-09             AAPL invests in renewable energy\n",
       "6  2020-01-10  AAPL reports earnings that exceed forecasts\n",
       "7  2020-01-13           Concerns over AAPL's future growth\n",
       "8  2020-01-14                    AAPL's market share grows\n",
       "9  2020-01-15        AAPL to unveil new product next month\n",
       "10 2020-01-16                       New AAPL CEO announced\n",
       "11 2020-01-17           Concerns over AAPL's future growth\n",
       "12 2020-01-21  AAPL reports earnings that exceed forecasts\n",
       "13 2020-01-22               AAPL faces regulatory scrutiny\n",
       "14 2020-01-23                    AAPL's market share grows\n",
       "15 2020-01-24       AAPL rumored to acquire a tech startup\n",
       "16 2020-01-27        AAPL to unveil new product next month\n",
       "17 2020-01-28                        AAPL hits record high\n",
       "18 2020-01-29                        AAPL hits record high\n",
       "19 2020-01-30       AAPL rumored to acquire a tech startup\n",
       "20 2020-01-31               AAPL faces regulatory scrutiny\n",
       "21 2020-02-03                    AAPL's market share grows\n",
       "22 2020-02-04                 Market downturn affects AAPL\n",
       "23 2020-02-05       AAPL rumored to acquire a tech startup\n",
       "24 2020-02-06        AAPL to unveil new product next month\n",
       "25 2020-02-07           Concerns over AAPL's future growth\n",
       "26 2020-02-10                 Market downturn affects AAPL\n",
       "27 2020-02-11                       New AAPL CEO announced\n",
       "28 2020-02-12                        AAPL hits record high\n",
       "29 2020-02-13               AAPL faces regulatory scrutiny"
      ]
     },
     "execution_count": 10,
     "metadata": {},
     "output_type": "execute_result"
    }
   ],
   "source": [
    "text_data.head(30)"
   ]
  },
  {
   "cell_type": "code",
   "execution_count": 11,
   "metadata": {
    "executionInfo": {
     "elapsed": 249,
     "status": "ok",
     "timestamp": 1748757659978,
     "user": {
      "displayName": "Rehmet Yeshanew",
      "userId": "13657567983879656862"
     },
     "user_tz": -180
    },
    "id": "tgaTa2DhxNHx"
   },
   "outputs": [],
   "source": [
    "def calculate_sentiment(text):\n",
    "    return TextBlob(text).sentiment.polarity\n",
    "\n",
    "# Applying the sentiment analysis function to your headlines\n",
    "text_data['Sentiment'] = text_data['Headline'].apply(calculate_sentiment)"
   ]
  },
  {
   "cell_type": "code",
   "execution_count": 12,
   "metadata": {
    "colab": {
     "base_uri": "https://localhost:8080/",
     "height": 990
    },
    "executionInfo": {
     "elapsed": 121,
     "status": "ok",
     "timestamp": 1748758040955,
     "user": {
      "displayName": "Rehmet Yeshanew",
      "userId": "13657567983879656862"
     },
     "user_tz": -180
    },
    "id": "tvQ_XiDOswnV",
    "outputId": "d88afee0-8f75-4c81-e701-86bc498d5cb0"
   },
   "outputs": [
    {
     "data": {
      "text/html": [
       "<div>\n",
       "<style scoped>\n",
       "    .dataframe tbody tr th:only-of-type {\n",
       "        vertical-align: middle;\n",
       "    }\n",
       "\n",
       "    .dataframe tbody tr th {\n",
       "        vertical-align: top;\n",
       "    }\n",
       "\n",
       "    .dataframe thead th {\n",
       "        text-align: right;\n",
       "    }\n",
       "</style>\n",
       "<table border=\"1\" class=\"dataframe\">\n",
       "  <thead>\n",
       "    <tr style=\"text-align: right;\">\n",
       "      <th></th>\n",
       "      <th>Date</th>\n",
       "      <th>Headline</th>\n",
       "      <th>Sentiment</th>\n",
       "    </tr>\n",
       "  </thead>\n",
       "  <tbody>\n",
       "    <tr>\n",
       "      <th>0</th>\n",
       "      <td>2020-01-02</td>\n",
       "      <td>AAPL to unveil new product next month</td>\n",
       "      <td>0.068182</td>\n",
       "    </tr>\n",
       "    <tr>\n",
       "      <th>1</th>\n",
       "      <td>2020-01-03</td>\n",
       "      <td>AAPL to unveil new product next month</td>\n",
       "      <td>0.068182</td>\n",
       "    </tr>\n",
       "    <tr>\n",
       "      <th>2</th>\n",
       "      <td>2020-01-06</td>\n",
       "      <td>AAPL faces regulatory scrutiny</td>\n",
       "      <td>0.000000</td>\n",
       "    </tr>\n",
       "    <tr>\n",
       "      <th>3</th>\n",
       "      <td>2020-01-07</td>\n",
       "      <td>AAPL rumored to acquire a tech startup</td>\n",
       "      <td>0.000000</td>\n",
       "    </tr>\n",
       "    <tr>\n",
       "      <th>4</th>\n",
       "      <td>2020-01-08</td>\n",
       "      <td>AAPL reports earnings that exceed forecasts</td>\n",
       "      <td>0.000000</td>\n",
       "    </tr>\n",
       "    <tr>\n",
       "      <th>5</th>\n",
       "      <td>2020-01-09</td>\n",
       "      <td>AAPL invests in renewable energy</td>\n",
       "      <td>0.000000</td>\n",
       "    </tr>\n",
       "    <tr>\n",
       "      <th>6</th>\n",
       "      <td>2020-01-10</td>\n",
       "      <td>AAPL reports earnings that exceed forecasts</td>\n",
       "      <td>0.000000</td>\n",
       "    </tr>\n",
       "    <tr>\n",
       "      <th>7</th>\n",
       "      <td>2020-01-13</td>\n",
       "      <td>Concerns over AAPL's future growth</td>\n",
       "      <td>0.000000</td>\n",
       "    </tr>\n",
       "    <tr>\n",
       "      <th>8</th>\n",
       "      <td>2020-01-14</td>\n",
       "      <td>AAPL's market share grows</td>\n",
       "      <td>0.000000</td>\n",
       "    </tr>\n",
       "    <tr>\n",
       "      <th>9</th>\n",
       "      <td>2020-01-15</td>\n",
       "      <td>AAPL to unveil new product next month</td>\n",
       "      <td>0.068182</td>\n",
       "    </tr>\n",
       "    <tr>\n",
       "      <th>10</th>\n",
       "      <td>2020-01-16</td>\n",
       "      <td>New AAPL CEO announced</td>\n",
       "      <td>0.136364</td>\n",
       "    </tr>\n",
       "    <tr>\n",
       "      <th>11</th>\n",
       "      <td>2020-01-17</td>\n",
       "      <td>Concerns over AAPL's future growth</td>\n",
       "      <td>0.000000</td>\n",
       "    </tr>\n",
       "    <tr>\n",
       "      <th>12</th>\n",
       "      <td>2020-01-21</td>\n",
       "      <td>AAPL reports earnings that exceed forecasts</td>\n",
       "      <td>0.000000</td>\n",
       "    </tr>\n",
       "    <tr>\n",
       "      <th>13</th>\n",
       "      <td>2020-01-22</td>\n",
       "      <td>AAPL faces regulatory scrutiny</td>\n",
       "      <td>0.000000</td>\n",
       "    </tr>\n",
       "    <tr>\n",
       "      <th>14</th>\n",
       "      <td>2020-01-23</td>\n",
       "      <td>AAPL's market share grows</td>\n",
       "      <td>0.000000</td>\n",
       "    </tr>\n",
       "    <tr>\n",
       "      <th>15</th>\n",
       "      <td>2020-01-24</td>\n",
       "      <td>AAPL rumored to acquire a tech startup</td>\n",
       "      <td>0.000000</td>\n",
       "    </tr>\n",
       "    <tr>\n",
       "      <th>16</th>\n",
       "      <td>2020-01-27</td>\n",
       "      <td>AAPL to unveil new product next month</td>\n",
       "      <td>0.068182</td>\n",
       "    </tr>\n",
       "    <tr>\n",
       "      <th>17</th>\n",
       "      <td>2020-01-28</td>\n",
       "      <td>AAPL hits record high</td>\n",
       "      <td>0.160000</td>\n",
       "    </tr>\n",
       "    <tr>\n",
       "      <th>18</th>\n",
       "      <td>2020-01-29</td>\n",
       "      <td>AAPL hits record high</td>\n",
       "      <td>0.160000</td>\n",
       "    </tr>\n",
       "    <tr>\n",
       "      <th>19</th>\n",
       "      <td>2020-01-30</td>\n",
       "      <td>AAPL rumored to acquire a tech startup</td>\n",
       "      <td>0.000000</td>\n",
       "    </tr>\n",
       "    <tr>\n",
       "      <th>20</th>\n",
       "      <td>2020-01-31</td>\n",
       "      <td>AAPL faces regulatory scrutiny</td>\n",
       "      <td>0.000000</td>\n",
       "    </tr>\n",
       "    <tr>\n",
       "      <th>21</th>\n",
       "      <td>2020-02-03</td>\n",
       "      <td>AAPL's market share grows</td>\n",
       "      <td>0.000000</td>\n",
       "    </tr>\n",
       "    <tr>\n",
       "      <th>22</th>\n",
       "      <td>2020-02-04</td>\n",
       "      <td>Market downturn affects AAPL</td>\n",
       "      <td>0.000000</td>\n",
       "    </tr>\n",
       "    <tr>\n",
       "      <th>23</th>\n",
       "      <td>2020-02-05</td>\n",
       "      <td>AAPL rumored to acquire a tech startup</td>\n",
       "      <td>0.000000</td>\n",
       "    </tr>\n",
       "    <tr>\n",
       "      <th>24</th>\n",
       "      <td>2020-02-06</td>\n",
       "      <td>AAPL to unveil new product next month</td>\n",
       "      <td>0.068182</td>\n",
       "    </tr>\n",
       "    <tr>\n",
       "      <th>25</th>\n",
       "      <td>2020-02-07</td>\n",
       "      <td>Concerns over AAPL's future growth</td>\n",
       "      <td>0.000000</td>\n",
       "    </tr>\n",
       "    <tr>\n",
       "      <th>26</th>\n",
       "      <td>2020-02-10</td>\n",
       "      <td>Market downturn affects AAPL</td>\n",
       "      <td>0.000000</td>\n",
       "    </tr>\n",
       "    <tr>\n",
       "      <th>27</th>\n",
       "      <td>2020-02-11</td>\n",
       "      <td>New AAPL CEO announced</td>\n",
       "      <td>0.136364</td>\n",
       "    </tr>\n",
       "    <tr>\n",
       "      <th>28</th>\n",
       "      <td>2020-02-12</td>\n",
       "      <td>AAPL hits record high</td>\n",
       "      <td>0.160000</td>\n",
       "    </tr>\n",
       "    <tr>\n",
       "      <th>29</th>\n",
       "      <td>2020-02-13</td>\n",
       "      <td>AAPL faces regulatory scrutiny</td>\n",
       "      <td>0.000000</td>\n",
       "    </tr>\n",
       "  </tbody>\n",
       "</table>\n",
       "</div>"
      ],
      "text/plain": [
       "         Date                                     Headline  Sentiment\n",
       "0  2020-01-02        AAPL to unveil new product next month   0.068182\n",
       "1  2020-01-03        AAPL to unveil new product next month   0.068182\n",
       "2  2020-01-06               AAPL faces regulatory scrutiny   0.000000\n",
       "3  2020-01-07       AAPL rumored to acquire a tech startup   0.000000\n",
       "4  2020-01-08  AAPL reports earnings that exceed forecasts   0.000000\n",
       "5  2020-01-09             AAPL invests in renewable energy   0.000000\n",
       "6  2020-01-10  AAPL reports earnings that exceed forecasts   0.000000\n",
       "7  2020-01-13           Concerns over AAPL's future growth   0.000000\n",
       "8  2020-01-14                    AAPL's market share grows   0.000000\n",
       "9  2020-01-15        AAPL to unveil new product next month   0.068182\n",
       "10 2020-01-16                       New AAPL CEO announced   0.136364\n",
       "11 2020-01-17           Concerns over AAPL's future growth   0.000000\n",
       "12 2020-01-21  AAPL reports earnings that exceed forecasts   0.000000\n",
       "13 2020-01-22               AAPL faces regulatory scrutiny   0.000000\n",
       "14 2020-01-23                    AAPL's market share grows   0.000000\n",
       "15 2020-01-24       AAPL rumored to acquire a tech startup   0.000000\n",
       "16 2020-01-27        AAPL to unveil new product next month   0.068182\n",
       "17 2020-01-28                        AAPL hits record high   0.160000\n",
       "18 2020-01-29                        AAPL hits record high   0.160000\n",
       "19 2020-01-30       AAPL rumored to acquire a tech startup   0.000000\n",
       "20 2020-01-31               AAPL faces regulatory scrutiny   0.000000\n",
       "21 2020-02-03                    AAPL's market share grows   0.000000\n",
       "22 2020-02-04                 Market downturn affects AAPL   0.000000\n",
       "23 2020-02-05       AAPL rumored to acquire a tech startup   0.000000\n",
       "24 2020-02-06        AAPL to unveil new product next month   0.068182\n",
       "25 2020-02-07           Concerns over AAPL's future growth   0.000000\n",
       "26 2020-02-10                 Market downturn affects AAPL   0.000000\n",
       "27 2020-02-11                       New AAPL CEO announced   0.136364\n",
       "28 2020-02-12                        AAPL hits record high   0.160000\n",
       "29 2020-02-13               AAPL faces regulatory scrutiny   0.000000"
      ]
     },
     "execution_count": 12,
     "metadata": {},
     "output_type": "execute_result"
    }
   ],
   "source": [
    "text_data.head(30)"
   ]
  },
  {
   "cell_type": "code",
   "execution_count": 19,
   "metadata": {
    "colab": {
     "base_uri": "https://localhost:8080/",
     "height": 238
    },
    "executionInfo": {
     "elapsed": 109,
     "status": "ok",
     "timestamp": 1748758316614,
     "user": {
      "displayName": "Rehmet Yeshanew",
      "userId": "13657567983879656862"
     },
     "user_tz": -180
    },
    "id": "doJy8hpGxFAh",
    "outputId": "203ad96e-2254-47b0-964c-8c2720846e3b"
   },
   "outputs": [
    {
     "data": {
      "application/vnd.google.colaboratory.intrinsic+json": {
       "summary": "{\n  \"name\": \"combined_data\",\n  \"rows\": 756,\n  \"fields\": [\n    {\n      \"column\": \"Date\",\n      \"properties\": {\n        \"dtype\": \"date\",\n        \"min\": \"2020-01-02 00:00:00\",\n        \"max\": \"2022-12-30 00:00:00\",\n        \"num_unique_values\": 756,\n        \"samples\": [\n          \"2021-08-16 00:00:00\",\n          \"2020-05-21 00:00:00\",\n          \"2021-09-08 00:00:00\"\n        ],\n        \"semantic_type\": \"\",\n        \"description\": \"\"\n      }\n    },\n    {\n      \"column\": \"Headline\",\n      \"properties\": {\n        \"dtype\": \"category\",\n        \"num_unique_values\": 10,\n        \"samples\": [\n          \"AAPL faces regulatory scrutiny\",\n          \"AAPL rumored to acquire a tech startup\",\n          \"Concerns over AAPL's future growth\"\n        ],\n        \"semantic_type\": \"\",\n        \"description\": \"\"\n      }\n    },\n    {\n      \"column\": \"Sentiment\",\n      \"properties\": {\n        \"dtype\": \"number\",\n        \"std\": 0.05696583979152113,\n        \"min\": 0.0,\n        \"max\": 0.16,\n        \"num_unique_values\": 4,\n        \"samples\": [\n          0.0,\n          0.06818181818181818,\n          0.13636363636363635\n        ],\n        \"semantic_type\": \"\",\n        \"description\": \"\"\n      }\n    },\n    {\n      \"column\": \"Close\",\n      \"properties\": {\n        \"dtype\": \"number\",\n        \"std\": 30.421461636221604,\n        \"min\": 54.37858200073242,\n        \"max\": 178.6456298828125,\n        \"num_unique_values\": 747,\n        \"samples\": [\n          112.30111694335938,\n          125.75194549560547,\n          77.00003051757812\n        ],\n        \"semantic_type\": \"\",\n        \"description\": \"\"\n      }\n    }\n  ]\n}",
       "type": "dataframe",
       "variable_name": "combined_data"
      },
      "text/html": [
       "\n",
       "  <div id=\"df-e13a846f-d529-49ec-891a-20817c937685\" class=\"colab-df-container\">\n",
       "    <div>\n",
       "<style scoped>\n",
       "    .dataframe tbody tr th:only-of-type {\n",
       "        vertical-align: middle;\n",
       "    }\n",
       "\n",
       "    .dataframe tbody tr th {\n",
       "        vertical-align: top;\n",
       "    }\n",
       "\n",
       "    .dataframe thead th {\n",
       "        text-align: right;\n",
       "    }\n",
       "</style>\n",
       "<table border=\"1\" class=\"dataframe\">\n",
       "  <thead>\n",
       "    <tr style=\"text-align: right;\">\n",
       "      <th></th>\n",
       "      <th>Headline</th>\n",
       "      <th>Sentiment</th>\n",
       "      <th>Close</th>\n",
       "    </tr>\n",
       "    <tr>\n",
       "      <th>Date</th>\n",
       "      <th></th>\n",
       "      <th></th>\n",
       "      <th></th>\n",
       "    </tr>\n",
       "  </thead>\n",
       "  <tbody>\n",
       "    <tr>\n",
       "      <th>2020-01-02</th>\n",
       "      <td>New AAPL CEO announced</td>\n",
       "      <td>0.136364</td>\n",
       "      <td>72.620842</td>\n",
       "    </tr>\n",
       "    <tr>\n",
       "      <th>2020-01-03</th>\n",
       "      <td>AAPL rumored to acquire a tech startup</td>\n",
       "      <td>0.000000</td>\n",
       "      <td>71.914825</td>\n",
       "    </tr>\n",
       "    <tr>\n",
       "      <th>2020-01-06</th>\n",
       "      <td>AAPL hits record high</td>\n",
       "      <td>0.160000</td>\n",
       "      <td>72.487839</td>\n",
       "    </tr>\n",
       "    <tr>\n",
       "      <th>2020-01-07</th>\n",
       "      <td>AAPL hits record high</td>\n",
       "      <td>0.160000</td>\n",
       "      <td>72.146950</td>\n",
       "    </tr>\n",
       "    <tr>\n",
       "      <th>2020-01-08</th>\n",
       "      <td>AAPL reports earnings that exceed forecasts</td>\n",
       "      <td>0.000000</td>\n",
       "      <td>73.307518</td>\n",
       "    </tr>\n",
       "  </tbody>\n",
       "</table>\n",
       "</div>\n",
       "    <div class=\"colab-df-buttons\">\n",
       "\n",
       "  <div class=\"colab-df-container\">\n",
       "    <button class=\"colab-df-convert\" onclick=\"convertToInteractive('df-e13a846f-d529-49ec-891a-20817c937685')\"\n",
       "            title=\"Convert this dataframe to an interactive table.\"\n",
       "            style=\"display:none;\">\n",
       "\n",
       "  <svg xmlns=\"http://www.w3.org/2000/svg\" height=\"24px\" viewBox=\"0 -960 960 960\">\n",
       "    <path d=\"M120-120v-720h720v720H120Zm60-500h600v-160H180v160Zm220 220h160v-160H400v160Zm0 220h160v-160H400v160ZM180-400h160v-160H180v160Zm440 0h160v-160H620v160ZM180-180h160v-160H180v160Zm440 0h160v-160H620v160Z\"/>\n",
       "  </svg>\n",
       "    </button>\n",
       "\n",
       "  <style>\n",
       "    .colab-df-container {\n",
       "      display:flex;\n",
       "      gap: 12px;\n",
       "    }\n",
       "\n",
       "    .colab-df-convert {\n",
       "      background-color: #E8F0FE;\n",
       "      border: none;\n",
       "      border-radius: 50%;\n",
       "      cursor: pointer;\n",
       "      display: none;\n",
       "      fill: #1967D2;\n",
       "      height: 32px;\n",
       "      padding: 0 0 0 0;\n",
       "      width: 32px;\n",
       "    }\n",
       "\n",
       "    .colab-df-convert:hover {\n",
       "      background-color: #E2EBFA;\n",
       "      box-shadow: 0px 1px 2px rgba(60, 64, 67, 0.3), 0px 1px 3px 1px rgba(60, 64, 67, 0.15);\n",
       "      fill: #174EA6;\n",
       "    }\n",
       "\n",
       "    .colab-df-buttons div {\n",
       "      margin-bottom: 4px;\n",
       "    }\n",
       "\n",
       "    [theme=dark] .colab-df-convert {\n",
       "      background-color: #3B4455;\n",
       "      fill: #D2E3FC;\n",
       "    }\n",
       "\n",
       "    [theme=dark] .colab-df-convert:hover {\n",
       "      background-color: #434B5C;\n",
       "      box-shadow: 0px 1px 3px 1px rgba(0, 0, 0, 0.15);\n",
       "      filter: drop-shadow(0px 1px 2px rgba(0, 0, 0, 0.3));\n",
       "      fill: #FFFFFF;\n",
       "    }\n",
       "  </style>\n",
       "\n",
       "    <script>\n",
       "      const buttonEl =\n",
       "        document.querySelector('#df-e13a846f-d529-49ec-891a-20817c937685 button.colab-df-convert');\n",
       "      buttonEl.style.display =\n",
       "        google.colab.kernel.accessAllowed ? 'block' : 'none';\n",
       "\n",
       "      async function convertToInteractive(key) {\n",
       "        const element = document.querySelector('#df-e13a846f-d529-49ec-891a-20817c937685');\n",
       "        const dataTable =\n",
       "          await google.colab.kernel.invokeFunction('convertToInteractive',\n",
       "                                                    [key], {});\n",
       "        if (!dataTable) return;\n",
       "\n",
       "        const docLinkHtml = 'Like what you see? Visit the ' +\n",
       "          '<a target=\"_blank\" href=https://colab.research.google.com/notebooks/data_table.ipynb>data table notebook</a>'\n",
       "          + ' to learn more about interactive tables.';\n",
       "        element.innerHTML = '';\n",
       "        dataTable['output_type'] = 'display_data';\n",
       "        await google.colab.output.renderOutput(dataTable, element);\n",
       "        const docLink = document.createElement('div');\n",
       "        docLink.innerHTML = docLinkHtml;\n",
       "        element.appendChild(docLink);\n",
       "      }\n",
       "    </script>\n",
       "  </div>\n",
       "\n",
       "\n",
       "    <div id=\"df-74a38873-414d-4598-96db-0702ebfb5937\">\n",
       "      <button class=\"colab-df-quickchart\" onclick=\"quickchart('df-74a38873-414d-4598-96db-0702ebfb5937')\"\n",
       "                title=\"Suggest charts\"\n",
       "                style=\"display:none;\">\n",
       "\n",
       "<svg xmlns=\"http://www.w3.org/2000/svg\" height=\"24px\"viewBox=\"0 0 24 24\"\n",
       "     width=\"24px\">\n",
       "    <g>\n",
       "        <path d=\"M19 3H5c-1.1 0-2 .9-2 2v14c0 1.1.9 2 2 2h14c1.1 0 2-.9 2-2V5c0-1.1-.9-2-2-2zM9 17H7v-7h2v7zm4 0h-2V7h2v10zm4 0h-2v-4h2v4z\"/>\n",
       "    </g>\n",
       "</svg>\n",
       "      </button>\n",
       "\n",
       "<style>\n",
       "  .colab-df-quickchart {\n",
       "      --bg-color: #E8F0FE;\n",
       "      --fill-color: #1967D2;\n",
       "      --hover-bg-color: #E2EBFA;\n",
       "      --hover-fill-color: #174EA6;\n",
       "      --disabled-fill-color: #AAA;\n",
       "      --disabled-bg-color: #DDD;\n",
       "  }\n",
       "\n",
       "  [theme=dark] .colab-df-quickchart {\n",
       "      --bg-color: #3B4455;\n",
       "      --fill-color: #D2E3FC;\n",
       "      --hover-bg-color: #434B5C;\n",
       "      --hover-fill-color: #FFFFFF;\n",
       "      --disabled-bg-color: #3B4455;\n",
       "      --disabled-fill-color: #666;\n",
       "  }\n",
       "\n",
       "  .colab-df-quickchart {\n",
       "    background-color: var(--bg-color);\n",
       "    border: none;\n",
       "    border-radius: 50%;\n",
       "    cursor: pointer;\n",
       "    display: none;\n",
       "    fill: var(--fill-color);\n",
       "    height: 32px;\n",
       "    padding: 0;\n",
       "    width: 32px;\n",
       "  }\n",
       "\n",
       "  .colab-df-quickchart:hover {\n",
       "    background-color: var(--hover-bg-color);\n",
       "    box-shadow: 0 1px 2px rgba(60, 64, 67, 0.3), 0 1px 3px 1px rgba(60, 64, 67, 0.15);\n",
       "    fill: var(--button-hover-fill-color);\n",
       "  }\n",
       "\n",
       "  .colab-df-quickchart-complete:disabled,\n",
       "  .colab-df-quickchart-complete:disabled:hover {\n",
       "    background-color: var(--disabled-bg-color);\n",
       "    fill: var(--disabled-fill-color);\n",
       "    box-shadow: none;\n",
       "  }\n",
       "\n",
       "  .colab-df-spinner {\n",
       "    border: 2px solid var(--fill-color);\n",
       "    border-color: transparent;\n",
       "    border-bottom-color: var(--fill-color);\n",
       "    animation:\n",
       "      spin 1s steps(1) infinite;\n",
       "  }\n",
       "\n",
       "  @keyframes spin {\n",
       "    0% {\n",
       "      border-color: transparent;\n",
       "      border-bottom-color: var(--fill-color);\n",
       "      border-left-color: var(--fill-color);\n",
       "    }\n",
       "    20% {\n",
       "      border-color: transparent;\n",
       "      border-left-color: var(--fill-color);\n",
       "      border-top-color: var(--fill-color);\n",
       "    }\n",
       "    30% {\n",
       "      border-color: transparent;\n",
       "      border-left-color: var(--fill-color);\n",
       "      border-top-color: var(--fill-color);\n",
       "      border-right-color: var(--fill-color);\n",
       "    }\n",
       "    40% {\n",
       "      border-color: transparent;\n",
       "      border-right-color: var(--fill-color);\n",
       "      border-top-color: var(--fill-color);\n",
       "    }\n",
       "    60% {\n",
       "      border-color: transparent;\n",
       "      border-right-color: var(--fill-color);\n",
       "    }\n",
       "    80% {\n",
       "      border-color: transparent;\n",
       "      border-right-color: var(--fill-color);\n",
       "      border-bottom-color: var(--fill-color);\n",
       "    }\n",
       "    90% {\n",
       "      border-color: transparent;\n",
       "      border-bottom-color: var(--fill-color);\n",
       "    }\n",
       "  }\n",
       "</style>\n",
       "\n",
       "      <script>\n",
       "        async function quickchart(key) {\n",
       "          const quickchartButtonEl =\n",
       "            document.querySelector('#' + key + ' button');\n",
       "          quickchartButtonEl.disabled = true;  // To prevent multiple clicks.\n",
       "          quickchartButtonEl.classList.add('colab-df-spinner');\n",
       "          try {\n",
       "            const charts = await google.colab.kernel.invokeFunction(\n",
       "                'suggestCharts', [key], {});\n",
       "          } catch (error) {\n",
       "            console.error('Error during call to suggestCharts:', error);\n",
       "          }\n",
       "          quickchartButtonEl.classList.remove('colab-df-spinner');\n",
       "          quickchartButtonEl.classList.add('colab-df-quickchart-complete');\n",
       "        }\n",
       "        (() => {\n",
       "          let quickchartButtonEl =\n",
       "            document.querySelector('#df-74a38873-414d-4598-96db-0702ebfb5937 button');\n",
       "          quickchartButtonEl.style.display =\n",
       "            google.colab.kernel.accessAllowed ? 'block' : 'none';\n",
       "        })();\n",
       "      </script>\n",
       "    </div>\n",
       "\n",
       "    </div>\n",
       "  </div>\n"
      ],
      "text/plain": [
       "                                               Headline  Sentiment      Close\n",
       "Date                                                                         \n",
       "2020-01-02                       New AAPL CEO announced   0.136364  72.620842\n",
       "2020-01-03       AAPL rumored to acquire a tech startup   0.000000  71.914825\n",
       "2020-01-06                        AAPL hits record high   0.160000  72.487839\n",
       "2020-01-07                        AAPL hits record high   0.160000  72.146950\n",
       "2020-01-08  AAPL reports earnings that exceed forecasts   0.000000  73.307518"
      ]
     },
     "execution_count": 19,
     "metadata": {},
     "output_type": "execute_result"
    }
   ],
   "source": [
    "# Aligning sentiment scores with the stock closing prices on the same date\n",
    "combined_data = text_data.set_index('Date').join(aapl_data['Close'])\n",
    "combined_data.head()"
   ]
  },
  {
   "cell_type": "markdown",
   "metadata": {
    "id": "kqTJeIwXI4oy"
   },
   "source": [
    "The pct_change() is a pandas method that calculates the percentage change between the current and previous row.\n",
    "\n",
    "for example:\n",
    "(71.914825-72.620842) / 72.620842 = -0.009722\n",
    "\n",
    "\n",
    "**Why It's Useful**\n",
    "\n",
    "* Helps identify volatility or trends.\n",
    "\n",
    "* Often used in financial modeling, risk analysis, or correlation with sentiment.\n",
    "\n",
    "\n"
   ]
  },
  {
   "cell_type": "code",
   "execution_count": 22,
   "metadata": {
    "executionInfo": {
     "elapsed": 14,
     "status": "ok",
     "timestamp": 1748758675709,
     "user": {
      "displayName": "Rehmet Yeshanew",
      "userId": "13657567983879656862"
     },
     "user_tz": -180
    },
    "id": "Te1_UY7jxGU6"
   },
   "outputs": [],
   "source": [
    "combined_data['Daily Returns'] = combined_data['Close'].pct_change()\n"
   ]
  },
  {
   "cell_type": "code",
   "execution_count": 21,
   "metadata": {
    "colab": {
     "base_uri": "https://localhost:8080/",
     "height": 238
    },
    "executionInfo": {
     "elapsed": 106,
     "status": "ok",
     "timestamp": 1748758467349,
     "user": {
      "displayName": "Rehmet Yeshanew",
      "userId": "13657567983879656862"
     },
     "user_tz": -180
    },
    "id": "Sd0udNvgtWtw",
    "outputId": "cbf255fd-f3c9-4b6f-a404-ea6d0b406bc7"
   },
   "outputs": [
    {
     "data": {
      "application/vnd.google.colaboratory.intrinsic+json": {
       "summary": "{\n  \"name\": \"combined_data\",\n  \"rows\": 756,\n  \"fields\": [\n    {\n      \"column\": \"Date\",\n      \"properties\": {\n        \"dtype\": \"date\",\n        \"min\": \"2020-01-02 00:00:00\",\n        \"max\": \"2022-12-30 00:00:00\",\n        \"num_unique_values\": 756,\n        \"samples\": [\n          \"2021-08-16 00:00:00\",\n          \"2020-05-21 00:00:00\",\n          \"2021-09-08 00:00:00\"\n        ],\n        \"semantic_type\": \"\",\n        \"description\": \"\"\n      }\n    },\n    {\n      \"column\": \"Headline\",\n      \"properties\": {\n        \"dtype\": \"category\",\n        \"num_unique_values\": 10,\n        \"samples\": [\n          \"AAPL faces regulatory scrutiny\",\n          \"AAPL rumored to acquire a tech startup\",\n          \"Concerns over AAPL's future growth\"\n        ],\n        \"semantic_type\": \"\",\n        \"description\": \"\"\n      }\n    },\n    {\n      \"column\": \"Sentiment\",\n      \"properties\": {\n        \"dtype\": \"number\",\n        \"std\": 0.05696583979152113,\n        \"min\": 0.0,\n        \"max\": 0.16,\n        \"num_unique_values\": 4,\n        \"samples\": [\n          0.0,\n          0.06818181818181818,\n          0.13636363636363635\n        ],\n        \"semantic_type\": \"\",\n        \"description\": \"\"\n      }\n    },\n    {\n      \"column\": \"Close\",\n      \"properties\": {\n        \"dtype\": \"number\",\n        \"std\": 30.421461636221604,\n        \"min\": 54.37858200073242,\n        \"max\": 178.6456298828125,\n        \"num_unique_values\": 747,\n        \"samples\": [\n          112.30111694335938,\n          125.75194549560547,\n          77.00003051757812\n        ],\n        \"semantic_type\": \"\",\n        \"description\": \"\"\n      }\n    },\n    {\n      \"column\": \"Daily Returns\",\n      \"properties\": {\n        \"dtype\": \"number\",\n        \"std\": 0.023265825837831034,\n        \"min\": -0.12864694044648994,\n        \"max\": 0.11980840698677886,\n        \"num_unique_values\": 754,\n        \"samples\": [\n          0.009622789672272258,\n          0.016226864230989513,\n          0.00030293682508863995\n        ],\n        \"semantic_type\": \"\",\n        \"description\": \"\"\n      }\n    }\n  ]\n}",
       "type": "dataframe",
       "variable_name": "combined_data"
      },
      "text/html": [
       "\n",
       "  <div id=\"df-e1a4ad02-2129-4936-8fe2-dc84f894d66f\" class=\"colab-df-container\">\n",
       "    <div>\n",
       "<style scoped>\n",
       "    .dataframe tbody tr th:only-of-type {\n",
       "        vertical-align: middle;\n",
       "    }\n",
       "\n",
       "    .dataframe tbody tr th {\n",
       "        vertical-align: top;\n",
       "    }\n",
       "\n",
       "    .dataframe thead th {\n",
       "        text-align: right;\n",
       "    }\n",
       "</style>\n",
       "<table border=\"1\" class=\"dataframe\">\n",
       "  <thead>\n",
       "    <tr style=\"text-align: right;\">\n",
       "      <th></th>\n",
       "      <th>Headline</th>\n",
       "      <th>Sentiment</th>\n",
       "      <th>Close</th>\n",
       "      <th>Daily Returns</th>\n",
       "    </tr>\n",
       "    <tr>\n",
       "      <th>Date</th>\n",
       "      <th></th>\n",
       "      <th></th>\n",
       "      <th></th>\n",
       "      <th></th>\n",
       "    </tr>\n",
       "  </thead>\n",
       "  <tbody>\n",
       "    <tr>\n",
       "      <th>2020-01-02</th>\n",
       "      <td>New AAPL CEO announced</td>\n",
       "      <td>0.136364</td>\n",
       "      <td>72.620842</td>\n",
       "      <td>NaN</td>\n",
       "    </tr>\n",
       "    <tr>\n",
       "      <th>2020-01-03</th>\n",
       "      <td>AAPL rumored to acquire a tech startup</td>\n",
       "      <td>0.000000</td>\n",
       "      <td>71.914825</td>\n",
       "      <td>-0.009722</td>\n",
       "    </tr>\n",
       "    <tr>\n",
       "      <th>2020-01-06</th>\n",
       "      <td>AAPL hits record high</td>\n",
       "      <td>0.160000</td>\n",
       "      <td>72.487839</td>\n",
       "      <td>0.007968</td>\n",
       "    </tr>\n",
       "    <tr>\n",
       "      <th>2020-01-07</th>\n",
       "      <td>AAPL hits record high</td>\n",
       "      <td>0.160000</td>\n",
       "      <td>72.146950</td>\n",
       "      <td>-0.004703</td>\n",
       "    </tr>\n",
       "    <tr>\n",
       "      <th>2020-01-08</th>\n",
       "      <td>AAPL reports earnings that exceed forecasts</td>\n",
       "      <td>0.000000</td>\n",
       "      <td>73.307518</td>\n",
       "      <td>0.016086</td>\n",
       "    </tr>\n",
       "  </tbody>\n",
       "</table>\n",
       "</div>\n",
       "    <div class=\"colab-df-buttons\">\n",
       "\n",
       "  <div class=\"colab-df-container\">\n",
       "    <button class=\"colab-df-convert\" onclick=\"convertToInteractive('df-e1a4ad02-2129-4936-8fe2-dc84f894d66f')\"\n",
       "            title=\"Convert this dataframe to an interactive table.\"\n",
       "            style=\"display:none;\">\n",
       "\n",
       "  <svg xmlns=\"http://www.w3.org/2000/svg\" height=\"24px\" viewBox=\"0 -960 960 960\">\n",
       "    <path d=\"M120-120v-720h720v720H120Zm60-500h600v-160H180v160Zm220 220h160v-160H400v160Zm0 220h160v-160H400v160ZM180-400h160v-160H180v160Zm440 0h160v-160H620v160ZM180-180h160v-160H180v160Zm440 0h160v-160H620v160Z\"/>\n",
       "  </svg>\n",
       "    </button>\n",
       "\n",
       "  <style>\n",
       "    .colab-df-container {\n",
       "      display:flex;\n",
       "      gap: 12px;\n",
       "    }\n",
       "\n",
       "    .colab-df-convert {\n",
       "      background-color: #E8F0FE;\n",
       "      border: none;\n",
       "      border-radius: 50%;\n",
       "      cursor: pointer;\n",
       "      display: none;\n",
       "      fill: #1967D2;\n",
       "      height: 32px;\n",
       "      padding: 0 0 0 0;\n",
       "      width: 32px;\n",
       "    }\n",
       "\n",
       "    .colab-df-convert:hover {\n",
       "      background-color: #E2EBFA;\n",
       "      box-shadow: 0px 1px 2px rgba(60, 64, 67, 0.3), 0px 1px 3px 1px rgba(60, 64, 67, 0.15);\n",
       "      fill: #174EA6;\n",
       "    }\n",
       "\n",
       "    .colab-df-buttons div {\n",
       "      margin-bottom: 4px;\n",
       "    }\n",
       "\n",
       "    [theme=dark] .colab-df-convert {\n",
       "      background-color: #3B4455;\n",
       "      fill: #D2E3FC;\n",
       "    }\n",
       "\n",
       "    [theme=dark] .colab-df-convert:hover {\n",
       "      background-color: #434B5C;\n",
       "      box-shadow: 0px 1px 3px 1px rgba(0, 0, 0, 0.15);\n",
       "      filter: drop-shadow(0px 1px 2px rgba(0, 0, 0, 0.3));\n",
       "      fill: #FFFFFF;\n",
       "    }\n",
       "  </style>\n",
       "\n",
       "    <script>\n",
       "      const buttonEl =\n",
       "        document.querySelector('#df-e1a4ad02-2129-4936-8fe2-dc84f894d66f button.colab-df-convert');\n",
       "      buttonEl.style.display =\n",
       "        google.colab.kernel.accessAllowed ? 'block' : 'none';\n",
       "\n",
       "      async function convertToInteractive(key) {\n",
       "        const element = document.querySelector('#df-e1a4ad02-2129-4936-8fe2-dc84f894d66f');\n",
       "        const dataTable =\n",
       "          await google.colab.kernel.invokeFunction('convertToInteractive',\n",
       "                                                    [key], {});\n",
       "        if (!dataTable) return;\n",
       "\n",
       "        const docLinkHtml = 'Like what you see? Visit the ' +\n",
       "          '<a target=\"_blank\" href=https://colab.research.google.com/notebooks/data_table.ipynb>data table notebook</a>'\n",
       "          + ' to learn more about interactive tables.';\n",
       "        element.innerHTML = '';\n",
       "        dataTable['output_type'] = 'display_data';\n",
       "        await google.colab.output.renderOutput(dataTable, element);\n",
       "        const docLink = document.createElement('div');\n",
       "        docLink.innerHTML = docLinkHtml;\n",
       "        element.appendChild(docLink);\n",
       "      }\n",
       "    </script>\n",
       "  </div>\n",
       "\n",
       "\n",
       "    <div id=\"df-b8a6af3e-6e79-4bdc-8ad9-cc3d5ab01689\">\n",
       "      <button class=\"colab-df-quickchart\" onclick=\"quickchart('df-b8a6af3e-6e79-4bdc-8ad9-cc3d5ab01689')\"\n",
       "                title=\"Suggest charts\"\n",
       "                style=\"display:none;\">\n",
       "\n",
       "<svg xmlns=\"http://www.w3.org/2000/svg\" height=\"24px\"viewBox=\"0 0 24 24\"\n",
       "     width=\"24px\">\n",
       "    <g>\n",
       "        <path d=\"M19 3H5c-1.1 0-2 .9-2 2v14c0 1.1.9 2 2 2h14c1.1 0 2-.9 2-2V5c0-1.1-.9-2-2-2zM9 17H7v-7h2v7zm4 0h-2V7h2v10zm4 0h-2v-4h2v4z\"/>\n",
       "    </g>\n",
       "</svg>\n",
       "      </button>\n",
       "\n",
       "<style>\n",
       "  .colab-df-quickchart {\n",
       "      --bg-color: #E8F0FE;\n",
       "      --fill-color: #1967D2;\n",
       "      --hover-bg-color: #E2EBFA;\n",
       "      --hover-fill-color: #174EA6;\n",
       "      --disabled-fill-color: #AAA;\n",
       "      --disabled-bg-color: #DDD;\n",
       "  }\n",
       "\n",
       "  [theme=dark] .colab-df-quickchart {\n",
       "      --bg-color: #3B4455;\n",
       "      --fill-color: #D2E3FC;\n",
       "      --hover-bg-color: #434B5C;\n",
       "      --hover-fill-color: #FFFFFF;\n",
       "      --disabled-bg-color: #3B4455;\n",
       "      --disabled-fill-color: #666;\n",
       "  }\n",
       "\n",
       "  .colab-df-quickchart {\n",
       "    background-color: var(--bg-color);\n",
       "    border: none;\n",
       "    border-radius: 50%;\n",
       "    cursor: pointer;\n",
       "    display: none;\n",
       "    fill: var(--fill-color);\n",
       "    height: 32px;\n",
       "    padding: 0;\n",
       "    width: 32px;\n",
       "  }\n",
       "\n",
       "  .colab-df-quickchart:hover {\n",
       "    background-color: var(--hover-bg-color);\n",
       "    box-shadow: 0 1px 2px rgba(60, 64, 67, 0.3), 0 1px 3px 1px rgba(60, 64, 67, 0.15);\n",
       "    fill: var(--button-hover-fill-color);\n",
       "  }\n",
       "\n",
       "  .colab-df-quickchart-complete:disabled,\n",
       "  .colab-df-quickchart-complete:disabled:hover {\n",
       "    background-color: var(--disabled-bg-color);\n",
       "    fill: var(--disabled-fill-color);\n",
       "    box-shadow: none;\n",
       "  }\n",
       "\n",
       "  .colab-df-spinner {\n",
       "    border: 2px solid var(--fill-color);\n",
       "    border-color: transparent;\n",
       "    border-bottom-color: var(--fill-color);\n",
       "    animation:\n",
       "      spin 1s steps(1) infinite;\n",
       "  }\n",
       "\n",
       "  @keyframes spin {\n",
       "    0% {\n",
       "      border-color: transparent;\n",
       "      border-bottom-color: var(--fill-color);\n",
       "      border-left-color: var(--fill-color);\n",
       "    }\n",
       "    20% {\n",
       "      border-color: transparent;\n",
       "      border-left-color: var(--fill-color);\n",
       "      border-top-color: var(--fill-color);\n",
       "    }\n",
       "    30% {\n",
       "      border-color: transparent;\n",
       "      border-left-color: var(--fill-color);\n",
       "      border-top-color: var(--fill-color);\n",
       "      border-right-color: var(--fill-color);\n",
       "    }\n",
       "    40% {\n",
       "      border-color: transparent;\n",
       "      border-right-color: var(--fill-color);\n",
       "      border-top-color: var(--fill-color);\n",
       "    }\n",
       "    60% {\n",
       "      border-color: transparent;\n",
       "      border-right-color: var(--fill-color);\n",
       "    }\n",
       "    80% {\n",
       "      border-color: transparent;\n",
       "      border-right-color: var(--fill-color);\n",
       "      border-bottom-color: var(--fill-color);\n",
       "    }\n",
       "    90% {\n",
       "      border-color: transparent;\n",
       "      border-bottom-color: var(--fill-color);\n",
       "    }\n",
       "  }\n",
       "</style>\n",
       "\n",
       "      <script>\n",
       "        async function quickchart(key) {\n",
       "          const quickchartButtonEl =\n",
       "            document.querySelector('#' + key + ' button');\n",
       "          quickchartButtonEl.disabled = true;  // To prevent multiple clicks.\n",
       "          quickchartButtonEl.classList.add('colab-df-spinner');\n",
       "          try {\n",
       "            const charts = await google.colab.kernel.invokeFunction(\n",
       "                'suggestCharts', [key], {});\n",
       "          } catch (error) {\n",
       "            console.error('Error during call to suggestCharts:', error);\n",
       "          }\n",
       "          quickchartButtonEl.classList.remove('colab-df-spinner');\n",
       "          quickchartButtonEl.classList.add('colab-df-quickchart-complete');\n",
       "        }\n",
       "        (() => {\n",
       "          let quickchartButtonEl =\n",
       "            document.querySelector('#df-b8a6af3e-6e79-4bdc-8ad9-cc3d5ab01689 button');\n",
       "          quickchartButtonEl.style.display =\n",
       "            google.colab.kernel.accessAllowed ? 'block' : 'none';\n",
       "        })();\n",
       "      </script>\n",
       "    </div>\n",
       "\n",
       "    </div>\n",
       "  </div>\n"
      ],
      "text/plain": [
       "                                               Headline  Sentiment      Close  \\\n",
       "Date                                                                            \n",
       "2020-01-02                       New AAPL CEO announced   0.136364  72.620842   \n",
       "2020-01-03       AAPL rumored to acquire a tech startup   0.000000  71.914825   \n",
       "2020-01-06                        AAPL hits record high   0.160000  72.487839   \n",
       "2020-01-07                        AAPL hits record high   0.160000  72.146950   \n",
       "2020-01-08  AAPL reports earnings that exceed forecasts   0.000000  73.307518   \n",
       "\n",
       "            Daily Returns  \n",
       "Date                       \n",
       "2020-01-02            NaN  \n",
       "2020-01-03      -0.009722  \n",
       "2020-01-06       0.007968  \n",
       "2020-01-07      -0.004703  \n",
       "2020-01-08       0.016086  "
      ]
     },
     "execution_count": 21,
     "metadata": {},
     "output_type": "execute_result"
    }
   ],
   "source": [
    "combined_data.head()"
   ]
  },
  {
   "cell_type": "markdown",
   "metadata": {
    "id": "2p2D4wLVLE2n"
   },
   "source": [
    "# Pearson Correlation\n",
    "\n",
    "What Pearson Correlation Measures linear relationship on continious variables\n",
    "Range: from -1 to +1\n",
    "\n",
    "+1: Perfect positive linear relationship\n",
    "\n",
    "-1: Perfect negative linear relationship\n",
    "\n",
    " 0: No linear relationship\n",
    "\n",
    "\n",
    "\n",
    "A variable is continuous if:\n",
    "\n",
    "\n",
    "*  It can take any value within a range (including decimals/fractions).\n",
    "\n",
    "*  There are infinitely many possible values between any two numbers.\n",
    "\n",
    "\n",
    "\n",
    "A variable is discrete if:\n",
    "\n",
    "\n",
    "*   It takes distinct, separate values, usually integers or categories.\n",
    "*   There are a finite or countably infinite number of values.\n",
    "[link text](https://)"
   ]
  },
  {
   "cell_type": "code",
   "execution_count": 23,
   "metadata": {
    "colab": {
     "base_uri": "https://localhost:8080/"
    },
    "executionInfo": {
     "elapsed": 60,
     "status": "ok",
     "timestamp": 1748759053356,
     "user": {
      "displayName": "Rehmet Yeshanew",
      "userId": "13657567983879656862"
     },
     "user_tz": -180
    },
    "id": "RwCEeRsixIdC",
    "outputId": "e60d0320-c654-49c5-808d-816d5abeb775"
   },
   "outputs": [
    {
     "name": "stdout",
     "output_type": "stream",
     "text": [
      "Correlation between sentiment and daily stock returns: -0.0038699590715752493\n"
     ]
    }
   ],
   "source": [
    "correlation = combined_data['Sentiment'].corr(combined_data['Daily Returns'])\n",
    "print(\"Correlation between sentiment and daily stock returns:\", correlation)\n"
   ]
  },
  {
   "cell_type": "code",
   "execution_count": 24,
   "metadata": {
    "colab": {
     "base_uri": "https://localhost:8080/"
    },
    "executionInfo": {
     "elapsed": 73,
     "status": "ok",
     "timestamp": 1748759075125,
     "user": {
      "displayName": "Rehmet Yeshanew",
      "userId": "13657567983879656862"
     },
     "user_tz": -180
    },
    "id": "dwDPQNIQykQq",
    "outputId": "209ebf3a-a89c-4076-f2fc-565f411f35a0"
   },
   "outputs": [
    {
     "name": "stdout",
     "output_type": "stream",
     "text": [
      "Correlation between sentiment and closing: 0.009365307071209783\n"
     ]
    }
   ],
   "source": [
    "correlation = combined_data['Sentiment'].corr(combined_data['Close'])\n",
    "print(\"Correlation between sentiment and closing:\", correlation)"
   ]
  },
  {
   "cell_type": "code",
   "execution_count": 27,
   "metadata": {
    "colab": {
     "base_uri": "https://localhost:8080/"
    },
    "executionInfo": {
     "elapsed": 36,
     "status": "ok",
     "timestamp": 1748759513707,
     "user": {
      "displayName": "Rehmet Yeshanew",
      "userId": "13657567983879656862"
     },
     "user_tz": -180
    },
    "id": "8lnmh6sJMEkt",
    "outputId": "98da2379-6e21-4005-cf68-4f2b8c3865af"
   },
   "outputs": [
    {
     "name": "stdout",
     "output_type": "stream",
     "text": [
      "Correlation between sentiment and closing: 0.004039718450436448\n"
     ]
    }
   ],
   "source": [
    "combined_data['Lagged Sentiment'] = combined_data['Sentiment'].shift(1)\n",
    "correlation = combined_data['Lagged Sentiment'].corr(combined_data['Daily Returns'])\n",
    "print(\"Correlation between sentiment and closing:\", correlation)"
   ]
  },
  {
   "cell_type": "markdown",
   "metadata": {
    "id": "QOz8vd1rMTFd"
   },
   "source": [
    "Summary\n",
    "Weak or No Real Relationship: It’s possible sentiment really doesn’t move this stock — or the sentiment scoring isn’t accurate or relevant enough."
   ]
  },
  {
   "cell_type": "markdown",
   "metadata": {
    "id": "W1r4-0SjPOO4"
   },
   "source": [
    "# Spearson Correlation"
   ]
  },
  {
   "cell_type": "code",
   "execution_count": 28,
   "metadata": {
    "colab": {
     "base_uri": "https://localhost:8080/"
    },
    "executionInfo": {
     "elapsed": 67,
     "status": "ok",
     "timestamp": 1748760226628,
     "user": {
      "displayName": "Rehmet Yeshanew",
      "userId": "13657567983879656862"
     },
     "user_tz": -180
    },
    "id": "YJ7JdLC7O0jB",
    "outputId": "4bd05bb8-7ca8-4922-b5f4-085f46f8aca9"
   },
   "outputs": [
    {
     "name": "stdout",
     "output_type": "stream",
     "text": [
      "Spearman correlation (sentiment vs daily returns): -0.005591241883863777\n"
     ]
    }
   ],
   "source": [
    "# Spearman correlation between sentiment and daily returns\n",
    "spearman_corr_returns = combined_data['Sentiment'].corr(combined_data['Daily Returns'], method='spearman')\n",
    "print(\"Spearman correlation (sentiment vs daily returns):\", spearman_corr_returns)"
   ]
  },
  {
   "cell_type": "code",
   "execution_count": 29,
   "metadata": {
    "colab": {
     "base_uri": "https://localhost:8080/"
    },
    "executionInfo": {
     "elapsed": 48,
     "status": "ok",
     "timestamp": 1748760300740,
     "user": {
      "displayName": "Rehmet Yeshanew",
      "userId": "13657567983879656862"
     },
     "user_tz": -180
    },
    "id": "gA3bgIJNPHq8",
    "outputId": "53e15d94-b1a7-4080-8a73-cea774e5a918"
   },
   "outputs": [
    {
     "name": "stdout",
     "output_type": "stream",
     "text": [
      "Spearman correlation (sentiment vs closing price): 0.002588738711991352\n"
     ]
    }
   ],
   "source": [
    "# Spearman correlation between sentiment and closing prices\n",
    "spearman_corr_close = combined_data['Sentiment'].corr(combined_data['Close'], method='spearman')\n",
    "print(\"Spearman correlation (sentiment vs closing price):\", spearman_corr_close)"
   ]
  },
  {
   "cell_type": "markdown",
   "metadata": {
    "id": "0i0FpQwnQBtH"
   },
   "source": [
    "# Kendall’s Tau\n"
   ]
  },
  {
   "cell_type": "code",
   "execution_count": 34,
   "metadata": {
    "colab": {
     "base_uri": "https://localhost:8080/"
    },
    "executionInfo": {
     "elapsed": 31,
     "status": "ok",
     "timestamp": 1748761124782,
     "user": {
      "displayName": "Rehmet Yeshanew",
      "userId": "13657567983879656862"
     },
     "user_tz": -180
    },
    "id": "lL9W_tV5QFPS",
    "outputId": "7ea3f172-9f0e-42af-bfa4-a244963b0fcf"
   },
   "outputs": [
    {
     "name": "stdout",
     "output_type": "stream",
     "text": [
      "Kendall's Tau (sentiment vs daily returns): nan\n",
      "Kendall's Tau (sentiment vs closing price): 0.002177238355394313\n"
     ]
    }
   ],
   "source": [
    "from scipy.stats import kendalltau\n",
    "\n",
    "tau_returns, _ = kendalltau(combined_data['Sentiment'], combined_data['Daily Returns'])\n",
    "tau_close, _ = kendalltau(combined_data['Sentiment'], combined_data['Close'])\n",
    "\n",
    "print(\"Kendall's Tau (sentiment vs daily returns):\", tau_returns)\n",
    "print(\"Kendall's Tau (sentiment vs closing price):\", tau_close)"
   ]
  },
  {
   "cell_type": "code",
   "execution_count": 32,
   "metadata": {
    "colab": {
     "base_uri": "https://localhost:8080/"
    },
    "executionInfo": {
     "elapsed": 48,
     "status": "ok",
     "timestamp": 1748761098607,
     "user": {
      "displayName": "Rehmet Yeshanew",
      "userId": "13657567983879656862"
     },
     "user_tz": -180
    },
    "id": "Cw18CcgCR7Cf",
    "outputId": "62190682-d6b8-4516-9fd9-bb97dd52636e"
   },
   "outputs": [
    {
     "name": "stdout",
     "output_type": "stream",
     "text": [
      "0\n",
      "1\n",
      "(755, 2)\n"
     ]
    }
   ],
   "source": [
    "print(combined_data['Sentiment'].isna().sum())\n",
    "print(combined_data['Daily Returns'].isna().sum())\n",
    "print(combined_data[['Sentiment', 'Daily Returns']].dropna().shape)"
   ]
  },
  {
   "cell_type": "code",
   "execution_count": 33,
   "metadata": {
    "colab": {
     "base_uri": "https://localhost:8080/"
    },
    "executionInfo": {
     "elapsed": 21,
     "status": "ok",
     "timestamp": 1748761104813,
     "user": {
      "displayName": "Rehmet Yeshanew",
      "userId": "13657567983879656862"
     },
     "user_tz": -180
    },
    "id": "-Zdu-6_3SKvN",
    "outputId": "009ac0fb-1500-4813-9668-bb6c2447e2d0"
   },
   "outputs": [
    {
     "name": "stdout",
     "output_type": "stream",
     "text": [
      "Fixed Kendall's Tau (sentiment vs daily returns): -0.003996171587574078\n"
     ]
    }
   ],
   "source": [
    "from scipy.stats import kendalltau\n",
    "\n",
    "# Drop rows with NaNs before computing\n",
    "filtered = combined_data[['Sentiment', 'Daily Returns']].dropna()\n",
    "tau_returns, _ = kendalltau(filtered['Sentiment'], filtered['Daily Returns'])\n",
    "print(\"Fixed Kendall's Tau (sentiment vs daily returns):\", tau_returns)\n"
   ]
  },
  {
   "cell_type": "markdown",
   "metadata": {
    "id": "wrIILMMXSoFr"
   },
   "source": [
    "Interpretation\n",
    "This value is:\n",
    "\n",
    "Very close to 0\n",
    "\n",
    "Negative, but not meaningfully so\n",
    "\n",
    "It indicates no monotonic relationship between sentiment and daily stock returns, even when using the more conservative Kendall’s Tau method."
   ]
  },
  {
   "cell_type": "code",
   "execution_count": 35,
   "metadata": {
    "colab": {
     "base_uri": "https://localhost:8080/",
     "height": 545
    },
    "executionInfo": {
     "elapsed": 2980,
     "status": "ok",
     "timestamp": 1748762106160,
     "user": {
      "displayName": "Rehmet Yeshanew",
      "userId": "13657567983879656862"
     },
     "user_tz": -180
    },
    "id": "YOYayiPGWAEA",
    "outputId": "9d3b2117-b42f-4bd3-e2d4-259aa26c06c4"
   },
   "outputs": [
    {
     "data": {
      "image/png": "[encoded data removed]",
      "text/plain": [
       "<Figure size 800x600 with 2 Axes>"
      ]
     },
     "metadata": {},
     "output_type": "display_data"
    }
   ],
   "source": [
    "import seaborn as sns\n",
    "import matplotlib.pyplot as plt\n",
    "\n",
    "# Select only the numeric columns you want to compare\n",
    "corr_data = combined_data[['Sentiment', 'Close', 'Daily Returns']].dropna()\n",
    "\n",
    "# Calculate correlation matrix\n",
    "corr_matrix = corr_data.corr(method='pearson')  # You can also try 'spearman' or 'kendall'\n",
    "\n",
    "# Plot heatmap\n",
    "plt.figure(figsize=(8, 6))\n",
    "sns.heatmap(corr_matrix, annot=True, cmap='coolwarm', fmt=\".2f\")\n",
    "plt.title('Correlation Matrix')\n",
    "plt.show()\n"
   ]
  },
  {
   "cell_type": "code",
   "execution_count": 15,
   "metadata": {
    "colab": {
     "base_uri": "https://localhost:8080/"
    },
    "executionInfo": {
     "elapsed": 81,
     "status": "ok",
     "timestamp": 1748757896161,
     "user": {
      "displayName": "Rehmet Yeshanew",
      "userId": "13657567983879656862"
     },
     "user_tz": -180
    },
    "id": "qq_VRQrfF9BQ",
    "outputId": "d1180168-524b-4c99-a64b-43a8d7118b30"
   },
   "outputs": [
    {
     "name": "stdout",
     "output_type": "stream",
     "text": [
      "1.0\n",
      "-0.15\n",
      "-0.8\n"
     ]
    }
   ],
   "source": [
    "from textblob import TextBlob\n",
    "\n",
    "text1 = \"This is the best day of my life.\"\n",
    "text2 = \"It is an average product.\"\n",
    "text3 = \"I hate everything about this.\"\n",
    "\n",
    "print(TextBlob(text1).sentiment.polarity)  # ~0.8 (positive)\n",
    "print(TextBlob(text2).sentiment.polarity)  # ~0.0 (neutral)\n",
    "print(TextBlob(text3).sentiment.polarity)  # ~-1.0 (negative)\n"
   ]
  }
 ],
 "metadata": {
  "colab": {
   "provenance": []
  },
  "kernelspec": {
   "display_name": ".venv",
   "language": "python",
   "name": "python3"
  },
  "language_info": {
   "codemirror_mode": {
    "name": "ipython",
    "version": 3
   },
   "file_extension": ".py",
   "mimetype": "text/x-python",
   "name": "python",
   "nbconvert_exporter": "python",
   "pygments_lexer": "ipython3",
   "version": "3.12.3"
  }
 },
 "nbformat": 4,
 "nbformat_minor": 0
}
