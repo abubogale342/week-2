{
 "cells": [
  {
   "cell_type": "markdown",
   "metadata": {},
   "source": [
    "# Financial Analysis with TA-Lib and PyNance\n",
    "\n",
    "This notebook demonstrates how to perform technical analysis on stock data using TA-Lib and PyNance."
   ]
  },
  {
   "cell_type": "code",
   "execution_count": null,
   "metadata": {},
   "outputs": [],
   "source": [
    "# Install required packages if not already installed\n",
    "!pip install yfinance pandas numpy matplotlib seaborn ta-lib pynance"
   ]
  },
  {
   "cell_type": "code",
   "execution_count": null,
   "metadata": {},
   "outputs": [],
   "source": [
    "# Import required libraries\n",
    "import sys\n",
    "import os\n",
    "import pandas as pd\n",
    "import matplotlib.pyplot as plt\n",
    "%matplotlib inline\n",
    "\n",
    "# Add scripts directory to path\n",
    "script_dir = os.path.abspath(os.path.join('..', 'scripts'))\n",
    "if script_dir not in sys.path:\n",
    "    sys.path.append(script_dir)\n",
    "    print(f\\\"Added {script_dir} to Python path\\\")\n",
    "else:\n",
    "    print(\\\"Script directory already in path\\\")"
   ]
  },
  {
   "cell_type": "code",
   "execution_count": null,
   "metadata": {},
   "outputs": [],
   "source": [
    "from financial_analysis import analyze_stock\n",
    "\n",
    "# Example: Analyze Apple stock (AAPL) for the last year\n",
    "symbol = 'AAPL'\n",
    "df_analysis = analyze_stock(symbol)\n",
    "\n",
    "# Display the last few rows of the analysis\n",
    "if df_analysis is not None:\n",
    "    display(df_analysis[['Open', 'High', 'Low', 'Close', 'Volume', 'SMA_20', 'RSI', 'MACD']].tail())"
   ]
  },
  {
   "cell_type": "code",
   "execution_count": null,
   "metadata": {},
   "outputs": [],
   "source": [
    "# Additional Analysis: Compare multiple stocks\n",
    "def compare_stocks(symbols, start_date=None, end_date=None):\n",
    "    \"\"\"Compare multiple stocks based on cumulative returns.\"\"\"\n",
    "    import yfinance as yf\n",
    "    import pandas as pd\n",
    "    \n",
    "    # Download data for all symbols\n",
    "    data = yf.download(symbols, start=start_date, end=end_date)['Adj Close']\n",
    "    \n",
    "    # Calculate daily returns and cumulative returns\n",
    "    returns = data.pct_change().dropna()\n",
    "    cumulative_returns = (1 + returns).cumprod()\n",
    "    \n",
    "    # Plot cumulative returns\n",
    "    plt.figure(figsize=(12, 6))\n",
    "    for symbol in symbols:\n",
    "        plt.plot(cumulative_returns.index, cumulative_returns[symbol], label=symbol)\n",
    "    \n",
    "    plt.title('Cumulative Returns Comparison')\n",
    "    plt.xlabel('Date')\n",
    "    plt.ylabel('Cumulative Returns')\n",
    "    plt.legend()\n",
    "    plt.grid(True, alpha=0.3)\n",
    "    plt.tight_layout()\n",
    "    \n",
    "    # Save the plot\n",
    "    os.makedirs('../output', exist_ok=True)\n",
    "    plt.savefig(f'../output/compare_{\"_\".join(symbols)}.png')\n",
    "    plt.show()\n",
    "    \n",
    "    return returns, cumulative_returns\n",
    "\n",
    "# Example: Compare tech stocks\n",
    "tech_stocks = ['AAPL', 'MSFT', 'GOOGL', 'AMZN', 'META']\n",
    "returns, cumulative_returns = compare_stocks(tech_stocks)\n",
    "\n",
    "# Display correlation matrix\n",
    "plt.figure(figsize=(10, 8))\n",
    "sns.heatmap(returns.corr(), annot=True, cmap='coolwarm', center=0)\n",
    "plt.title('Correlation Matrix of Daily Returns')\n",
    "plt.tight_layout()\n",
    "plt.savefig('../output/correlation_matrix.png')\n",
    "plt.show()"
   ]
  },
  {
   "cell_type": "code",
   "execution_count": null,
   "metadata": {},
   "outputs": [],
   "source": [
    "# Risk Analysis\n",
    "def calculate_risk_metrics(returns):\n",
    "    \"\"\"Calculate risk metrics for the given returns.\"\"\"\n",
    "    # Annualized return\n",
    "    annual_return = returns.mean() * 252\n",
    "    \n",
    "    # Annualized volatility\n",
    "    annual_volatility = returns.std() * np.sqrt(252)\n",
    "    \n",
    "    # Sharpe ratio (assuming 0% risk-free rate for simplicity)\n",
    "    sharpe_ratio = annual_return / annual_volatility\n",
    "    \n",
    "    # Create a DataFrame with the metrics\n",
    "    metrics = pd.DataFrame({\n",
    "        'Annual Return': annual_return,\n",
    "        'Annual Volatility': annual_volatility,\n",
    "        'Sharpe Ratio': sharpe_ratio\n",
    "    })\n",
    "    \n",
    "    return metrics\n",
    "\n",
    "# Calculate and display risk metrics\n",
    "risk_metrics = calculate_risk_metrics(returns)\n",
    "print(\\\"Risk Metrics for Each Stock:\\\")\n",
    "display(risk_metrics)"
   ]
  }
 ],
 "metadata": {
  "kernelspec": {
   "display_name": "Python 3",
   "language": "python",
   "name": "python3"
  },
  "language_info": {
   "codemirror_mode": {
    "name": "ipython",
    "version": 3
   },
   "file_extension": ".py",
   "mimetype": "text/x-python",
   "name": "python",
   "nbconvert_exporter": "python",
   "pygments_lexer": "ipython3",
   "version": "3.8.0"
  }
 },
 "nbformat": 4,
 "nbformat_minor": 4
}
